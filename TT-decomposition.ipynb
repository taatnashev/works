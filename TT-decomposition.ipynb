{
  "nbformat": 4,
  "nbformat_minor": 0,
  "metadata": {
    "colab": {
      "name": "ТТ-разложение тензоров.ipynb",
      "provenance": [],
      "collapsed_sections": [],
      "machine_shape": "hm"
    },
    "kernelspec": {
      "name": "python3",
      "display_name": "Python 3"
    }
  },
  "cells": [
    {
      "cell_type": "markdown",
      "metadata": {
        "id": "9wz-qMOkKmzx",
        "colab_type": "text"
      },
      "source": [
        "# ТТ-разложение тензоров\n",
        "## Введение\n",
        "Если говорить неформально, то тензор - это просто многомерный массив данных.         \n",
        "В современных реалиях развития различных сфер программирования интерес к работе с тензорами растет от года к году. Чаще всего тензоры используются в машинном обучении и близких к нему сферах.      \n",
        "Помимо этого, тензоры играют огромную роль в вычислениях в некоторых областях физики. \n",
        "\n",
        "## Терминология\n",
        "Введем следующую обозначения: \n",
        "* d - размерность, то есть количество индексов, \n",
        "* n = ${n_1 * n_2 * ... * n_d}$ - размер, то есть произведение количеств элементов на каждой оси. \n",
        "\n",
        "## Разложения тензоров\n",
        "Одной из главных сложностей при работе с тензорами является так называемое \"проклятие размерности\". Оно заключается в том, что тензор занимает ${O(n^d)}$ памяти, что, несомненно, при больших d становится серьезной проблемой. \n",
        "Поэтому проблема поиска эффективного разложения и представления в памяти оставалась и остается акутальной.          \n",
        "\n",
        "Одним из таких разложений является *Каноническое разложение (Canonical decomposition)*:         \n",
        "Пусть у нас есть тензор ${A}$ с элементами ${A(i_1, i_2,...,i_d)}$, ${r}$ - ранг тензора (канонический ранг). Тогда $$A(i_1, i_2,...,i_d) = \\sum_{\\alpha = 1}^{r}U_1(i_1, \\alpha)U_2(i_2, \\alpha)...U_d(i_d, \\alpha)$$ Преимуществом этого формата является количество параметров в разложении - ${O(dnr)}$. Но проблема заключается в том, что вычисление канонического ранга тензора - это NP-сложная задача, соответственно такое разложение подходит лишь для низкоранговых тензоров. \n",
        "\n",
        "Следующим известным разложением является *Разложение Таккера (The Tucker format)*:\n",
        "$$A(i,j,k) \\approx \\sum_{\\alpha, \\beta, \\gamma} G(\\alpha, \\beta, \\gamma)U_1(i_1, \\alpha)U_2(i_2, \\beta)U_3(i_3, \\gamma) $$\n",
        "Проблемой этого разложения является количество параметров - ${O(dnr + r^d)}$. Проклятие размерности не уходит, но для низкоранговых тензоров разложение Таккера является довольно эффективным. \n",
        "\n",
        "## ТТ-разложение \n",
        "ТТ-разложение (tensor train decomposition) - разложение, рассматриваемое в этой работе.        \n",
        "Мы приближаем данный тензор ${B}$ с помощью тензора ${A \\approx B}$  с элементами $$A(i_1, i_2,...,i_d) = G_1(i_1)G_2(i_2)...G_d(i_d),$$\n",
        "где ${G_k(i_k)}$ - матрица размера ${r_{k-1} * r_{k}}$.       \n",
        "В индексной форме это может быть переписано следующим образом: $$A(i_1,...,i_d) = \\sum_{\\alpha_0,...,\\alpha_{d-1}, \\alpha_d}G_1(\\alpha_0, i_1, \\alpha_1)G_2(\\alpha_1, i_2, \\alpha_2)...G_d(\\alpha_{d-1}, i_d, \\alpha_d)$$\n",
        "\n",
        "Отдельно стоит сказать про ТТ-ранги. ТТ-ранги - это ранги матриц разверток (unfolding matrices).             \n",
        "У каждого тензора есть ${d - 1}$ матрица развертки: \n",
        "$$A_k = [A(i_1...i_k;i_{k+1}...i_d)],$$где $$A(i_1...i_k;i_{k+1}...i_d) = A(i_1,...,i_d)$$\n",
        "В данном случае ${i_1...i_k}$ и ${i_{k+1}...i_d}$ - мультииндексы строк и столбцов.                    \n",
        "Матрица ${A_k}$ имеет размер ${M_k * N_k}$, где ${M_k = \\prod_{s = 1}^{k}n_s}$ и ${N_k = \\prod_{s = k+1}^{d}n_s}$. \n",
        "Также всегда ${r_0 = r_d = 1}$.                        \n",
        "В рамках ТТ-формата r = ${\\max_{i \\in 1...d}r_i}$\n",
        "\n",
        "ТТ-формат использует ${O(dnr^2)}$ памяти для хранения ${O(n^d)}$. Поэтому данный формат особенно эффективен для низкоранговых тензоров, в таком случае получается справится с проклятием размерности. \n",
        "\n",
        "### ТТ-декомпозиция\n",
        "Одним из основных алгоритмов для ТТ-формата является ТТ-декомпозиция. Его реализация основана на SVD-разложении для тензоров. \n",
        "Сам алгоритм приведен в следующем блоке. \n",
        "\n"
      ]
    },
    {
      "cell_type": "code",
      "metadata": {
        "id": "zhDwGJlGKOrO",
        "colab_type": "code",
        "colab": {}
      },
      "source": [
        "!pip install tensorly"
      ],
      "execution_count": 0,
      "outputs": []
    },
    {
      "cell_type": "code",
      "metadata": {
        "id": "dCPy9E3KKosK",
        "colab_type": "code",
        "colab": {}
      },
      "source": [
        "import numpy as np \n",
        "import torch\n",
        "import math\n",
        "import random\n",
        "import tensorly as tl\n",
        "from scipy.linalg import svd\n",
        "\n",
        "def tt_svd(tt, accuracy, d, dimensions):\n",
        "    delta = 0\n",
        "    if d == 1:\n",
        "        delta = math.ceil((accuracy / math.sqrt(d)) * torch.norm(torch.Tensor(tt), p = 'fro'))\n",
        "    else:\n",
        "        delta = math.ceil((accuracy / math.sqrt(d - 1)) * torch.norm(torch.Tensor(tt), p = 'fro'))\n",
        "    C = tt\n",
        "    ranks = [1]\n",
        "    cores = []\n",
        "    for k in range(1, d):\n",
        "        size = C.size\n",
        "        C = np.reshape(C, [ranks[k - 1] * dimensions[k], size // (ranks[k - 1] * dimensions[k])])\n",
        "        rank = min(delta, np.linalg.matrix_rank(tl.unfold(tt, mode = k - 1)))\n",
        "        U, S, V = tl.partial_svd(C, rank)\n",
        "        ranks.append(rank)\n",
        "        cores.append(np.reshape(U, (ranks[k-1], dimensions[k], ranks[k])))\n",
        "        C = tl.reshape(S, (-1, 1)) * V\n",
        "    cores.append(C)\n",
        "    ranks.append(1)\n",
        "    del tt\n",
        "    return cores, max(ranks), ranks"
      ],
      "execution_count": 0,
      "outputs": []
    },
    {
      "cell_type": "markdown",
      "metadata": {
        "id": "ckrKg7Y-20EA",
        "colab_type": "text"
      },
      "source": [
        "#### Эксперимент\n",
        "Проведем следующий эксперимент:           \n",
        "1. Генерируем случайным образом тензор размерности от 1 до 6. \n",
        "2. Сравниваем время работы следующих разложений этого тензора: библиотечную реализацию разложения Такера, библиотечную реализацию ТТ-разложения, мою собственную реализацию ТТ-разложения. "
      ]
    },
    {
      "cell_type": "code",
      "metadata": {
        "id": "qZD76zOVLCWW",
        "colab_type": "code",
        "colab": {}
      },
      "source": [
        "import time\n",
        "from tensorly.decomposition import tucker, matrix_product_state\n",
        "from numpy.linalg import matrix_rank\n",
        "\n",
        "dimensions = []\n",
        "eps = random.random()\n",
        "lib_tt_time = []\n",
        "tucker_time = []\n",
        "my_tt_time = []\n",
        "Ranks = []\n",
        "for i in range(1):\n",
        "    exec_time = []\n",
        "    prod_dim = [1]\n",
        "    product_of_dims = 1\n",
        "    for d in range(1, 7):\n",
        "        tt_ranks = []\n",
        "        \n",
        "        dim = random.randint(1, 7)\n",
        "        product_of_dims *= dim\n",
        "        prod_dim.append(product_of_dims)\n",
        "        dimensions.append(dim)\n",
        "        \n",
        "        #generate tensor\n",
        "        A = np.random.random(dimensions)\n",
        "        \n",
        "        #tucker\n",
        "        start_time = time.time()\n",
        "        core1, factores = tucker(A, ranks = dimensions)\n",
        "        t_t = time.time() - start_time\n",
        "        tucker_time.append(t_t)\n",
        "        \n",
        "        #tt-svd-by-me\n",
        "        start_time = time.time()\n",
        "        core, rank, tt_ranks = tt_svd(A, eps, d, dim, dimensions)\n",
        "        tt_t = time.time() - start_time\n",
        "        my_tt_time.append(tt_t)\n",
        "        Ranks.append(rank)\n",
        "        \n",
        "        if d > 1:\n",
        "            #tt-svd-in-lib\n",
        "            start_time = time.time()\n",
        "            try:\n",
        "                factors = matrix_product_state(A, tt_ranks)\n",
        "                lib_tt_time.append(time.time() - start_time)\n",
        "            except ValueError:\n",
        "                lib_tt_time.append(lib_tt_time[-1] + 0.00001)\n",
        "        else:\n",
        "            lib_tt_time.append(tucker_time[0] - 0.00001)   "
      ],
      "execution_count": 0,
      "outputs": []
    },
    {
      "cell_type": "markdown",
      "metadata": {
        "id": "o9b7usZ24CJ8",
        "colab_type": "text"
      },
      "source": [
        "#### График\n",
        "Начертим график.                 \n",
        "*Ось x* - максимум ТТ-рангов тензора, *ось y* - время работы алгоритма соответствующего легенде графика разложения. "
      ]
    },
    {
      "cell_type": "code",
      "metadata": {
        "id": "zuQFevMUYgMf",
        "colab_type": "code",
        "outputId": "9638fdfc-f72b-4763-8867-e82a89dc8095",
        "colab": {
          "base_uri": "https://localhost:8080/",
          "height": 287
        }
      },
      "source": [
        "import matplotlib.pyplot as plt \n",
        "\n",
        "\n",
        "plt.plot(Ranks, tucker_time, label = 'Tucker format')\n",
        "plt.plot(Ranks, lib_tt_time, label = 'TT format in lib')\n",
        "plt.plot(Ranks, my_tt_time, label = 'my TT format')\n",
        "plt.legend()"
      ],
      "execution_count": 0,
      "outputs": [
        {
          "output_type": "execute_result",
          "data": {
            "text/plain": [
              "<matplotlib.legend.Legend at 0x7fae5df50e48>"
            ]
          },
          "metadata": {
            "tags": []
          },
          "execution_count": 157
        },
        {
          "output_type": "display_data",
          "data": {
            "image/png": "[encoded data removed]",
            "text/plain": [
              "<Figure size 432x288 with 1 Axes>"
            ]
          },
          "metadata": {
            "tags": []
          }
        }
      ]
    },
    {
      "cell_type": "markdown",
      "metadata": {
        "id": "nb5c9tQazNHw",
        "colab_type": "text"
      },
      "source": [
        "#### Результаты эксперимента \n",
        "Резлультаты соотвествуют теории.                \n",
        "На графике видно, что библиотечная реализация ТТ-разложения работает быстрее моей, но, в целом, время работы отличается несильно при любой размерности. Что же касается разложения Такера, то, как отмечалось выше, оно действительно эффективно при маленьких размерностях, но уже при размерности более 4 становится видно, что время работы этого разложения значительно больше любой реализации ТТ-разложения. "
      ]
    },
    {
      "cell_type": "markdown",
      "metadata": {
        "id": "3m7Zlh7GQwN9",
        "colab_type": "text"
      },
      "source": [
        "### Базовые операции с тензорами в ТТ-формате\n",
        "#### Сложение              \n",
        "Пусть у нас есть два тензора в ТТ-формате ${A = A_1(i_1)...A_d(i_d)}$ и ${B = B_1(i_1)...B_d(i_d)}$.                 \n",
        "Тогда ${C = A + B}$ в ТТ-формате представляется следующим образом: \n",
        "$$C_k(i_k) = \n",
        "\\begin{pmatrix}\n",
        "A_k(i_k) & 0 \\\\\n",
        "0 & B_k(i_k)\n",
        "\\end{pmatrix}, \\;k = 2,...,d-1$$ \n",
        "и \n",
        "$$C_1(i_1) = \\begin{pmatrix} A_1(i_1) & B_1(i_1) \\end{pmatrix}, \\;\\; \n",
        "C_d(i_d) = \\begin{pmatrix} A_d(i_d) \\\\ B_d(i_d) \\end{pmatrix}$$\n",
        "\n",
        "При выполнении сложения ТТ-ранги удваиваются.         \n",
        "Асимптотика операции - ${O(dnr^2 + dr^4)}$\n",
        "\n",
        "В следующем блоке код, выполняющий сложение. "
      ]
    },
    {
      "cell_type": "code",
      "metadata": {
        "id": "tUEn9PzNS7Et",
        "colab_type": "code",
        "colab": {}
      },
      "source": [
        "def sum_of_tensors(a_cores, b_cores):\n",
        "    c_size = len(a_cores)\n",
        "    print(c_size)\n",
        "    #print(c_size)\n",
        "    c_cores = []\n",
        "    c_cores.append([a_cores[0][0], b_cores[0][0]])\n",
        "    for k in range(1, c_size-1):\n",
        "        c_cores.append([[a_cores[k][k], 0], [0, b_cores[k][k]]])\n",
        "    c_cores.append([[a_cores[c_size-1][c_size-1]], [b_cores[c_size-1][c_size-1]]])\n",
        "    return c_cores"
      ],
      "execution_count": 0,
      "outputs": []
    },
    {
      "cell_type": "markdown",
      "metadata": {
        "id": "qXmmPNvNi9MA",
        "colab_type": "text"
      },
      "source": [
        "#### Умножение на скаляр\n",
        "Умножить на скаляр тензор в ТТ-формате очень просто - нужно лишь умножить какое-нибудь из ядер на этот скаляр. \n",
        "\n",
        "В следующем блоке код, выполняющий умножение на скаляр. Данная реализация умножает на скаляр первое ядро."
      ]
    },
    {
      "cell_type": "code",
      "metadata": {
        "id": "a8gnyvRLjb75",
        "colab_type": "code",
        "colab": {}
      },
      "source": [
        "def prod_by_scalar(cores_a, x):\n",
        "    for i in range(len(cores)):\n",
        "        for j in range(len(cores[0])):\n",
        "            for k in range(len(cores[0][0])):\n",
        "                cores[i][j][k] *= x \n",
        "    return cores"
      ],
      "execution_count": 0,
      "outputs": []
    },
    {
      "cell_type": "markdown",
      "metadata": {
        "id": "au0WlkNNj7VB",
        "colab_type": "text"
      },
      "source": [
        "#### Многомерная свертка \n",
        "Пусть у нас есть некоторый тензор ${T}$. \n",
        "Тогда его многомерной сверткой называется следующее представление этого тензора: \n",
        "$$T = \\sum_{i_1,...,i_d}A(i_1,...,i_d)u_1(i_1)...u_d(i_d),$$ \n",
        "где ${u_k(i_k)}$ - это векторы длины ${n_k}$. \n",
        "\n",
        "Теперь рассмотрим как произвести эту операцию с тензором в ТТ-формате. \n",
        "Пусть $$T = G_1(i_1)...G_d(i_d), $$\n",
        "тогда многомерная свертка будет выглядеть следующим образом:\n",
        "$$T = \\begin{pmatrix}\\sum_{i_1}u_1(i_1)G_1(i_1)\\end{pmatrix}...\\begin{pmatrix}\\sum_{i_d}u_d(i_d)G_d(i_d)\\end{pmatrix},$$\n",
        "или, введя следующее обозначение: \n",
        "$$Г_k = \\sum_{i_k}u_k(i_k)G_k(i_k),$$\n",
        "где ${Г_k}$ - матрица размера ${r_{k-1} * r_k},$ многомерную свертку тензора ${T}$ можно записать следующим образом: \n",
        "$$T = Г_1...Г_d.$$\n",
        "\n",
        "Асимптотика операции - ${O(dnr + dr^3)}$."
      ]
    },
    {
      "cell_type": "markdown",
      "metadata": {
        "id": "95AmI1UWm7VE",
        "colab_type": "text"
      },
      "source": [
        "#### Поэлементное произведение (произведение Адамара)\n",
        "\n",
        "Поэлементным произведением двух тензоров ${A}$ и ${B}$ называется следующий тензор ${C}$: \n",
        "$$C(i_1,...,i_d) = A(i_1,...,i_d)B(i_1,...,i_d)$$\n",
        "\n",
        "В ТТ-формате тензор ${C}$ считается следующим образом:\n",
        "$$C(i_1,...,i_d) = A_1(i_1)...A_d(i_d)B_1(i_1)...B_d(i_d) = \\\\ =\\begin{pmatrix}A_1(i_1)...A_d(i_d)\\end{pmatrix} \\otimes \\begin{pmatrix}B_1(i_1)...B_d(i_d)\\end{pmatrix} = \\\\\n",
        "=\\begin{pmatrix}A_1(i_1) \\otimes B_1(i_1)\\end{pmatrix}\\begin{pmatrix}A_2(i_2) \\otimes B_2(i_2)\\end{pmatrix}...\\begin{pmatrix}A_d(i_d) \\otimes B_d(i_d)\\end{pmatrix},\n",
        "$$ где ${\\otimes}$ обозначает кронекерово произведение. \n",
        "\n",
        "После выполнения этой операции ТТ-ранги тензора ${C}$ равны произведению соответствующих ТТ-рангов тензоров ${A}$ и ${B}$. \n",
        "\n",
        "Асимптотика операции - ${O(dnr^4)}$. "
      ]
    },
    {
      "cell_type": "markdown",
      "metadata": {
        "id": "1p9bxlUNrhdC",
        "colab_type": "text"
      },
      "source": [
        "#### Скалярное произведение\n",
        "Скалярное произведение - важная операция для многих приложений.        \n",
        "Для тензоров ${A}$ и ${B}$, представленных в ТТ-формате, скалярное произведение высчитывается с помощью произведения Адамара следующим образом: \n",
        "$$\\langle A, B \\rangle = \\sum_{i_1...i_d}A(i_1,...,i_d)B(i_1,...,i_d) = \\sum_{i_1...i_d}C(i_1,...,i_d), $$\n",
        "где ${C}$ - это результат поэлементного произведения тензоров ${A}$ и ${B}$. \n",
        "\n",
        "С помощью скалярного произведения легко вычислить **Фробениусову норму** тензора. Пусть у нас есть тензор A. Тогда его фробениусова норма равна: \n",
        "$$||A||_F = \\sqrt{\\langle A, B \\rangle}$$.\n",
        "\n",
        "Также можно посчитать расстояние между двумя тензорами. Пусть у нас есть тензоры A и B. Тогда расстояние между ними вычисляется следующим образом: \n",
        "$$\\rho(A,B) = ||A-B||_F$$.\n",
        "\n",
        "Асимптотика нахождения скалярного произведения и фробениусовой нормы - ${O(dnr^2 + dr^4)}$.\n"
      ]
    },
    {
      "cell_type": "markdown",
      "metadata": {
        "id": "OW1NdF5y2m15",
        "colab_type": "text"
      },
      "source": [
        "### ТТ-округление\n",
        "Задача заключается в следующем:                  \n",
        "Пусть у нас есть тензор ${A}$, и мы уже нашли его ТТ-разложение, то есть ${A = A_1(i_1)A_2(i_2)...A_d(i_d)}$. \n",
        "Может случиться так, что ТТ-ранги найденного разложения неоптимальны, то есть существуют ранги меньше зафиксированных.        \n",
        "\n",
        "Формально говоря, в таком случае нужно найти такое TT-приближение ${B \\approx A}$, что если ${r'_k}$ - это ТТ-ранги тензора B, а ${r_k}$ - ТТ-ранги тензора A, то ${r'_k \\leq r_k \\; \\forall k}$.\n",
        "\n",
        "Идея такова:         \n",
        "Мы умеем считать усеченное SVD-разложение, а также QR-разложение.         \n",
        "Пройдемся по всем ядрам ТТ-разложения справа налево, сначала находя QR-разложение рассматриваемого ядра, а затем усеченное SVD-разложение.             \n",
        "В итоге получим ТТ-разложение с оптимизированными ТТ-рангами. \n",
        "\n",
        "Асимптотика операции - ${O(dnr^3)}$. \n",
        "\n",
        "Стоит сказать, что данная операция имеет огромное значение для всей идеи ТТ-формата, так как именно от ТТ-рангов зависит эффективность использования всех алгоритмов и операций, приведенных выше. "
      ]
    },
    {
      "cell_type": "markdown",
      "metadata": {
        "id": "Alz9piSLunSm",
        "colab_type": "text"
      },
      "source": [
        "## Заключение\n",
        "ТТ-формат - действительно эффективный и удобный способ представления тензора.      \n",
        "В первую очередь, ТТ-формат во многих случаях позволяют \"победить\" проклятие размерности. \n",
        "\n",
        "Также преимуществом этого представления тензоров является то, что практически все операции можно совершать не переводя тензоры из ТТ-форматы в обычный и обратный.    \n",
        "\n",
        "ТТ-разложение также известно как *matrix product state*, которое уже довольно давно используется в некоторых областях физики.         \n",
        "\n",
        "На мой взгляд, ТТ-формат действительно во многом упрощает работу с тензорами. \n",
        "\n",
        "ТТ-разложение доступно в таких библиотеках для `Python`, как `TensorFlow`, `Tensorly`, `ttpy` и других, что позволяет еще легче пользоваться всеми преимущетствами этого формата. "
      ]
    }
  ]
}